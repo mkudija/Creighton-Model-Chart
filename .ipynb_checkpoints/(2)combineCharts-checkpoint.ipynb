{
 "cells": [
  {
   "cell_type": "code",
   "execution_count": 1,
   "metadata": {
    "collapsed": false
   },
   "outputs": [],
   "source": [
    "import numpy as np\n",
    "import PIL\n",
    "from PIL import Image\n",
    "\n",
    "# load images\n",
    "path = '/Users/mkudija/Desktop/Kudija_Chart/Charts/'\n",
    "\n",
    "list_im = ['2016-11-20.png', '2016-12-23.png', '2017-01-22.png','2017-02-28.png', '2017-03-30.png','2017-05-05.png']\n",
    "#for item in range(0,len(list_im)):\n",
    "#    list_im[item] = path+list_im[item]\n",
    "\n",
    "imgs    = [PIL.Image.open(path+i) for i in list_im]\n",
    "\n",
    "# crop images \n",
    "n=0\n",
    "cropped = []\n",
    "shave = [38,44] # shave amt in pixels [top,bottom]\n",
    "for i in imgs:\n",
    "    w, h = i.size\n",
    "    # box dims from original upper left corner: (dist to left edge, dist to top edge, dist to right edge, dist to bottom edge)\n",
    "    name = path+'tmp/'+list_im[n]\n",
    "    if n>0:\n",
    "        i.crop((0, shave[0], w, h-shave[1])).save(name)\n",
    "    else:\n",
    "        i.crop((0, 0, w, h-shave[1])).save(name)\n",
    "    cropped.append(name)\n",
    "    n+=1\n",
    "\n",
    "list_im = cropped\n",
    "name = list_im[0].strip('.png').strip('/tmp')+' through '+list_im[-1].strip('.png').strip('/tmp')+'.png'\n",
    "imgs = [PIL.Image.open(i) for i in list_im]\n",
    "\n",
    "# resize to smallest image \n",
    "min_shape = sorted( [(np.sum(i.size), i.size ) for i in imgs])[0][1]\n",
    "imgs_comb = np.hstack( (np.asarray( i.resize(min_shape) ) for i in imgs ) )\n",
    "\n",
    "# combine images vertially \n",
    "imgs_comb = np.vstack( (np.asarray( i.resize(min_shape) ) for i in imgs ) )\n",
    "imgs_comb = PIL.Image.fromarray(imgs_comb)\n",
    "imgs_comb.save(list_im[0].strip(path).strip('.png')+list_im[-1].strip(path))\n",
    "print('Done.')"
   ]
  },
  {
   "cell_type": "code",
   "execution_count": null,
   "metadata": {
    "collapsed": true
   },
   "outputs": [],
   "source": []
  }
 ],
 "metadata": {
  "kernelspec": {
   "display_name": "Python [Root]",
   "language": "python",
   "name": "Python [Root]"
  },
  "language_info": {
   "codemirror_mode": {
    "name": "ipython",
    "version": 3
   },
   "file_extension": ".py",
   "mimetype": "text/x-python",
   "name": "python",
   "nbconvert_exporter": "python",
   "pygments_lexer": "ipython3",
   "version": "3.5.2"
  }
 },
 "nbformat": 4,
 "nbformat_minor": 0
}
