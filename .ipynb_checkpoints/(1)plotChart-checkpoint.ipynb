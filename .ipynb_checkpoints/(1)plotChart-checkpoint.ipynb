{
 "cells": [
  {
   "cell_type": "code",
   "execution_count": 1,
   "metadata": {
    "collapsed": false
   },
   "outputs": [
    {
     "name": "stdout",
     "output_type": "stream",
     "text": [
      "Cycle Length: 31 days\n"
     ]
    }
   ],
   "source": [
    "import matplotlib.pyplot as plt\n",
    "from matplotlib.offsetbox import AnnotationBbox, OffsetImage\n",
    "from matplotlib._png import read_png\n",
    "import pandas as pd\n",
    "import numpy as np\n",
    "import datetime\n",
    "\n",
    "name = '2017-05-05'\n",
    "df = pd.read_excel('/Users/mkudija/Desktop/Kudija_Chart/Data/'+name+'.xlsx')\n",
    "df = df.fillna('')\n",
    "print('Cycle Length: '+str(df.shape[0])+' days')\n",
    "#df.tail()"
   ]
  },
  {
   "cell_type": "code",
   "execution_count": 2,
   "metadata": {
    "collapsed": false
   },
   "outputs": [
    {
     "name": "stdout",
     "output_type": "stream",
     "text": [
      "Done.\n"
     ]
    }
   ],
   "source": [
    "def plot_chart(df, name):\n",
    "  \n",
    "    # function to plot sticker images \n",
    "    def plot_image(x, y, path, zoom):\n",
    "        arr_hand = read_png(path)\n",
    "        imagebox = OffsetImage(arr_hand, zoom=zoom)\n",
    "        xy = [x, y]\n",
    "        ab = AnnotationBbox(imagebox, xy, xybox=(0, 0), xycoords='data', boxcoords=\"offset points\", frameon=False)\n",
    "        ax.add_artist(ab)\n",
    "        \n",
    "    # configure axes\n",
    "    fig = plt.gcf()\n",
    "    fig.clf()\n",
    "    plt.figure(figsize=(7*5/2,1.85), dpi=150)\n",
    "    ax = plt.subplot(111)\n",
    "    ax.spines['right'].set_visible(False)\n",
    "    ax.spines['left'].set_visible(False)\n",
    "    ax.spines['bottom'].set_visible(False)\n",
    "    ax.spines['top'].set_visible(False)\n",
    "    plt.axis('off')\n",
    "\n",
    "    # plot grid\n",
    "    plt.text(6.5,.15,'BSE',ha='center',size=7,weight='bold')\n",
    "    linewidth1=.5\n",
    "    linewidth2=2.5\n",
    "    yrange = [0,2,3.75,4.7]\n",
    "    for x in range(0,7*6+1):\n",
    "        for y in yrange:\n",
    "            if x % 7 == 0:\n",
    "                plt.plot([x,x],[0,y],'-k',linewidth=linewidth2)\n",
    "            else:\n",
    "                plt.plot([x,x],[0,y],'-k',linewidth=linewidth1)\n",
    "            \n",
    "            if y==yrange[1]:\n",
    "                plt.plot([0,x],[y,y],'-k',linewidth=linewidth1)\n",
    "            else: \n",
    "                plt.plot([0,x],[y,y],'-k',linewidth=linewidth2)\n",
    "        if x<42: plt.text(x+.5, 4.1, x+1,ha='center',size=9) # plot day number\n",
    "        \n",
    "    # plot day number, date, and observation text\n",
    "    for row in range(0,df.shape[0]):\n",
    "        date = df.ix[row,'Date']\n",
    "        intercourse = df.ix[row,'Intercourse']\n",
    "        discharge = df.ix[row,'Discharge'].rstrip()\n",
    "        plt.text(row+.5,1.5,str(date.month)+'/'+str(date.day),ha='center',name='Verdana',size=6)\n",
    "        if 'I' in intercourse:\n",
    "            if row==6: plt.text(row+.5,.5,intercourse,ha='center',name='Verdana',size=7)\n",
    "            else: plt.text(row+.5,.1,intercourse,ha='center',name='Verdana',size=7)\n",
    "        if len(discharge)<5:\n",
    "            plt.text(row+.5,1,discharge,ha='center',name='Verdana',size=7)\n",
    "        else: \n",
    "            space = discharge.find(' ')\n",
    "            plt.text(row+.5,1,discharge[0:space],ha='center',name='Verdana',size=7)\n",
    "            row2 = discharge[space+1:]\n",
    "            if len(row2)<6:\n",
    "                plt.text(row+.5,.55,row2,ha='center',name='Verdana',size=7)\n",
    "            else:\n",
    "                space = row2.find(' ')\n",
    "                plt.text(row+.5,.55,row2[0:space],ha='center',name='Verdana',size=7)\n",
    "                plt.text(row+.5,.35,row2[space:],ha='center',name='Verdana',size=7)\n",
    "                    \n",
    "        #call plot_image function\n",
    "        sticker = str(df.ix[row,'Sticker']).lower()\n",
    "        if len(sticker)>0: path = 'Stickers/'+sticker+'.png'\n",
    "        else: path = 'Stickers/blank.png'\n",
    "        plot_image(row+.5, 2.85, path, .125)\n",
    " \n",
    "    # save & show plot\n",
    "    #plt.draw()\n",
    "    plt.savefig('/Users/mkudija/Desktop/Kudija_Chart/Charts/'+name+'.png', dpi=150, bbox_inches='tight')\n",
    "    #plt.show()\n",
    "\n",
    "# -------------------------------------------------------\n",
    "plot_chart(df, name)\n",
    "print('Done.')"
   ]
  },
  {
   "cell_type": "code",
   "execution_count": null,
   "metadata": {
    "collapsed": true
   },
   "outputs": [],
   "source": []
  }
 ],
 "metadata": {
  "anaconda-cloud": {},
  "kernelspec": {
   "display_name": "Python [Root]",
   "language": "python",
   "name": "Python [Root]"
  },
  "language_info": {
   "codemirror_mode": {
    "name": "ipython",
    "version": 3
   },
   "file_extension": ".py",
   "mimetype": "text/x-python",
   "name": "python",
   "nbconvert_exporter": "python",
   "pygments_lexer": "ipython3",
   "version": "3.5.2"
  }
 },
 "nbformat": 4,
 "nbformat_minor": 0
}
